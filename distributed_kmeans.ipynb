{
 "cells": [
  {
   "cell_type": "code",
   "execution_count": 41,
   "metadata": {},
   "outputs": [
    {
     "data": {
      "text/plain": [
       "0.012688580000000229"
      ]
     },
     "execution_count": 41,
     "metadata": {},
     "output_type": "execute_result"
    }
   ],
   "source": [
    "from random import random\n",
    "import numpy as np\n",
    "from simple_wta import WTAProblem\n",
    "\n",
    "def dist(prob: WTAProblem, x, y):\n",
    "    return np.sum(prob.v*(x-y)**2)\n",
    "\n",
    "# I made this too fucking complicated, in reality things are quite simple\n",
    "\n",
    "def agent_update(prob: WTAProblem, labels: list, i: int, k: int):\n",
    "    (n,m) = prob.p.shape\n",
    "    S = [[j for j in range(n) if labels[j]==c] for c in range(k)]\n",
    "    means = [np.average(prob.p[S[c],:],axis=0) for c in range(k)]\n",
    "    x = prob.p[i,:]\n",
    "    label = np.argmin([dist(prob,x,y) for y in means])\n",
    "    return label\n",
    "\n",
    "# k-means is a dumb as fuck algorithm\n",
    "def init(prob: WTAProblem, k: int):\n",
    "    (n,m) = prob.p.shape\n",
    "    # choose one center uniformly at random over the data\n",
    "    lb = np.min(prob.p,axis=0)\n",
    "    ub = np.max(prob.p,axis=0)\n",
    "    centroids = [np.random.uniform(low=lb,high=ub)]\n",
    "    # Randomly select weapons as new centroids until k centroids are chosen\n",
    "    points = list(range(n))\n",
    "    for i in range(1,k):\n",
    "        D = []\n",
    "        for j in points:\n",
    "            x = prob.p[j,:]\n",
    "            D.append(np.min([dist(prob,x,y) for y in centroids])) # this can be optimized to remove redundant distance computations\n",
    "        idx = points[np.random.choice(len(points),p=D/np.sum(D))]\n",
    "        new_centroid = prob.p[idx,:]\n",
    "        centroids.append(new_centroid)\n",
    "        points.remove(idx)\n",
    "    # assign each point to its closest centroid\n",
    "    labels = [np.argmin([dist(prob,prob.p[i,:],centroids[j]) for j in range(k)]) for i in range(n)]\n",
    "    return centroids, labels\n",
    "\n",
    "\"\"\" A naive kmeans algorithim initialized with kmeans++\"\"\"\n",
    "def distributed_kmeans(prob: WTAProblem, k:int, maxiters=100):\n",
    "    (n,m) = prob.p.shape\n",
    "    centroids, old_labels = init(prob, k)\n",
    "    iters = 0\n",
    "    while iters < maxiters:\n",
    "        print(iters)\n",
    "        iters+=1\n",
    "        labels = [agent_update(prob,old_labels,i,k) for i in range(n)]\n",
    "        if old_labels == labels:\n",
    "            break\n",
    "        else:\n",
    "            old_labels = labels\n",
    "    return iters, labels"
   ]
  }
 ],
 "metadata": {
  "kernelspec": {
   "display_name": "Python 3.9.12 64-bit",
   "language": "python",
   "name": "python3"
  },
  "language_info": {
   "codemirror_mode": {
    "name": "ipython",
    "version": 3
   },
   "file_extension": ".py",
   "mimetype": "text/x-python",
   "name": "python",
   "nbconvert_exporter": "python",
   "pygments_lexer": "ipython3",
   "version": "3.9.12"
  },
  "orig_nbformat": 4,
  "vscode": {
   "interpreter": {
    "hash": "81794d4967e6c3204c66dcd87b604927b115b27c00565d3d43f05ba2f3a2cb0d"
   }
  }
 },
 "nbformat": 4,
 "nbformat_minor": 2
}
