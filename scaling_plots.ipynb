{
 "cells": [
  {
   "cell_type": "code",
   "execution_count": 1,
   "metadata": {},
   "outputs": [],
   "source": [
    "import numpy as np\n",
    "import simple_wta\n",
    "import ahuja\n",
    "import spectral_clustering\n",
    "import kmeans_clustering\n",
    "import regret_matching\n",
    "from time import perf_counter\n",
    "from matplotlib import pyplot as plt\n",
    "%matplotlib inline\n",
    "rng = np.random.RandomState(seed=1)"
   ]
  },
  {
   "cell_type": "code",
   "execution_count": 2,
   "metadata": {},
   "outputs": [],
   "source": [
    "n_w,n_t = (100,100)\n",
    "rng = np.random.RandomState(seed=0)\n",
    "prob = simple_wta.random_wta_factory(n_w,n_t,rng=rng)\n",
    "x = simple_wta.greedy(prob)"
   ]
  },
  {
   "cell_type": "code",
   "execution_count": 3,
   "metadata": {},
   "outputs": [
    {
     "name": "stderr",
     "output_type": "stream",
     "text": [
      "c:\\Python39\\lib\\site-packages\\numpy\\lib\\function_base.py:959: VisibleDeprecationWarning: Creating an ndarray from ragged nested sequences (which is a list-or-tuple of lists-or-tuples-or ndarrays with different lengths or shapes) is deprecated. If you meant to do this, you must specify 'dtype=object' when creating the ndarray.\n",
      "  return array(a, order=order, subok=subok, copy=True)\n",
      "c:\\Python39\\lib\\site-packages\\numpy\\lib\\function_base.py:959: VisibleDeprecationWarning: Creating an ndarray from ragged nested sequences (which is a list-or-tuple of lists-or-tuples-or ndarrays with different lengths or shapes) is deprecated. If you meant to do this, you must specify 'dtype=object' when creating the ndarray.\n",
      "  return array(a, order=order, subok=subok, copy=True)\n",
      "c:\\Python39\\lib\\site-packages\\numpy\\lib\\function_base.py:959: VisibleDeprecationWarning: Creating an ndarray from ragged nested sequences (which is a list-or-tuple of lists-or-tuples-or ndarrays with different lengths or shapes) is deprecated. If you meant to do this, you must specify 'dtype=object' when creating the ndarray.\n",
      "  return array(a, order=order, subok=subok, copy=True)\n",
      "c:\\Python39\\lib\\site-packages\\numpy\\lib\\function_base.py:959: VisibleDeprecationWarning: Creating an ndarray from ragged nested sequences (which is a list-or-tuple of lists-or-tuples-or ndarrays with different lengths or shapes) is deprecated. If you meant to do this, you must specify 'dtype=object' when creating the ndarray.\n",
      "  return array(a, order=order, subok=subok, copy=True)\n",
      "c:\\Python39\\lib\\site-packages\\numpy\\lib\\function_base.py:959: VisibleDeprecationWarning: Creating an ndarray from ragged nested sequences (which is a list-or-tuple of lists-or-tuples-or ndarrays with different lengths or shapes) is deprecated. If you meant to do this, you must specify 'dtype=object' when creating the ndarray.\n",
      "  return array(a, order=order, subok=subok, copy=True)\n",
      "c:\\Python39\\lib\\site-packages\\numpy\\lib\\function_base.py:959: VisibleDeprecationWarning: Creating an ndarray from ragged nested sequences (which is a list-or-tuple of lists-or-tuples-or ndarrays with different lengths or shapes) is deprecated. If you meant to do this, you must specify 'dtype=object' when creating the ndarray.\n",
      "  return array(a, order=order, subok=subok, copy=True)\n",
      "c:\\Python39\\lib\\site-packages\\numpy\\lib\\function_base.py:959: VisibleDeprecationWarning: Creating an ndarray from ragged nested sequences (which is a list-or-tuple of lists-or-tuples-or ndarrays with different lengths or shapes) is deprecated. If you meant to do this, you must specify 'dtype=object' when creating the ndarray.\n",
      "  return array(a, order=order, subok=subok, copy=True)\n",
      "c:\\Python39\\lib\\site-packages\\numpy\\lib\\function_base.py:959: VisibleDeprecationWarning: Creating an ndarray from ragged nested sequences (which is a list-or-tuple of lists-or-tuples-or ndarrays with different lengths or shapes) is deprecated. If you meant to do this, you must specify 'dtype=object' when creating the ndarray.\n",
      "  return array(a, order=order, subok=subok, copy=True)\n",
      "c:\\Python39\\lib\\site-packages\\numpy\\lib\\function_base.py:959: VisibleDeprecationWarning: Creating an ndarray from ragged nested sequences (which is a list-or-tuple of lists-or-tuples-or ndarrays with different lengths or shapes) is deprecated. If you meant to do this, you must specify 'dtype=object' when creating the ndarray.\n",
      "  return array(a, order=order, subok=subok, copy=True)\n",
      "c:\\Python39\\lib\\site-packages\\numpy\\lib\\function_base.py:959: VisibleDeprecationWarning: Creating an ndarray from ragged nested sequences (which is a list-or-tuple of lists-or-tuples-or ndarrays with different lengths or shapes) is deprecated. If you meant to do this, you must specify 'dtype=object' when creating the ndarray.\n",
      "  return array(a, order=order, subok=subok, copy=True)\n"
     ]
    },
    {
     "name": "stdout",
     "output_type": "stream",
     "text": [
      "GRAPH IS EMPTY DURING ASSIGNMENT UPDATE!!\n"
     ]
    },
    {
     "name": "stderr",
     "output_type": "stream",
     "text": [
      "c:\\Python39\\lib\\site-packages\\numpy\\lib\\function_base.py:959: VisibleDeprecationWarning: Creating an ndarray from ragged nested sequences (which is a list-or-tuple of lists-or-tuples-or ndarrays with different lengths or shapes) is deprecated. If you meant to do this, you must specify 'dtype=object' when creating the ndarray.\n",
      "  return array(a, order=order, subok=subok, copy=True)\n",
      "c:\\Python39\\lib\\site-packages\\numpy\\lib\\function_base.py:959: VisibleDeprecationWarning: Creating an ndarray from ragged nested sequences (which is a list-or-tuple of lists-or-tuples-or ndarrays with different lengths or shapes) is deprecated. If you meant to do this, you must specify 'dtype=object' when creating the ndarray.\n",
      "  return array(a, order=order, subok=subok, copy=True)\n",
      "c:\\Python39\\lib\\site-packages\\numpy\\lib\\function_base.py:959: VisibleDeprecationWarning: Creating an ndarray from ragged nested sequences (which is a list-or-tuple of lists-or-tuples-or ndarrays with different lengths or shapes) is deprecated. If you meant to do this, you must specify 'dtype=object' when creating the ndarray.\n",
      "  return array(a, order=order, subok=subok, copy=True)\n"
     ]
    }
   ],
   "source": [
    "rng = np.random.RandomState(seed=2)\n",
    "# n_c = [10,11,12,13,14,15,16,17,18]\n",
    "n_c = [10,12,14,16,18,20]\n",
    "n_w = [n**2 for n in n_c]\n",
    "n_t = [int(3*n/4) for n in n_w]\n",
    "\n",
    "x_greedy = []\n",
    "t_greedy = []\n",
    "x_ahuja = []\n",
    "t_ahuja = []\n",
    "x_spectral = []\n",
    "t_spectral = []\n",
    "spectral_cluster_data = []\n",
    "x_kmeans = []\n",
    "t_kmeans = []\n",
    "kmeans_cluster_data = []\n",
    "\n",
    "prob = [simple_wta.random_wta_factory(n_w[i],n_t[i],rng=rng) for i in range(len(n_c))]\n",
    "\n",
    "for i in range(len(n_c)):\n",
    "    t0 = perf_counter()\n",
    "    x_greedy.append(simple_wta.greedy(prob[i]))\n",
    "    t_greedy.append(perf_counter()-t0)\n",
    "    t0 = perf_counter()\n",
    "    x_ahuja.append(ahuja.optimize(prob[i],maxiters=1000,ftol_abs=1e-12))\n",
    "    t_ahuja.append(perf_counter()-t0)\n",
    "    # t0 = perf_counter()\n",
    "    # spectral_cluster_data.append(spectral_clustering.reduce_problem(prob[i],n_c[i],rng=rng))\n",
    "    # x_spectral.append([ahuja.optimize(p,maxiters=1000,ftol_abs=1e-12) for p in spectral_cluster_data[-1][0]])\n",
    "    # t_spectral.append(perf_counter()-t0)\n",
    "    t0 = perf_counter()\n",
    "    kmeans_cluster_data.append(kmeans_clustering.reduce_problem(prob[i],n_c[i],rng=rng))\n",
    "    x_kmeans.append([ahuja.optimize(p,maxiters=1000,ftol_abs=1e-12) for p in kmeans_cluster_data[-1][0]])\n",
    "    t_kmeans.append(perf_counter()-t0)\n"
   ]
  },
  {
   "cell_type": "code",
   "execution_count": 4,
   "metadata": {},
   "outputs": [],
   "source": [
    "f_greedy = [prob[i].max_objective(x_greedy[i]) for i in range(len(n_c))]\n",
    "c_greedy = [prob[i].objective(x_greedy[i]) for i in range(len(n_c))]\n",
    "f_ahuja = [prob[i].max_objective(x_ahuja[i]) for i in range(len(n_c))]\n",
    "c_ahuja = [prob[i].objective(x_ahuja[i]) for i in range(len(n_c))]\n",
    "# f_spectral = [np.sum([spectral_cluster_data[i][0][j].max_objective(x_spectral[i][j]) for j in range(n_c[i])]) for i in range(len(n_c))]\n",
    "# c_spectral = [np.sum([spectral_cluster_data[i][0][j].objective(x_spectral[i][j]) for j in range(n_c[i])]) for i in range(len(n_c))]\n",
    "f_kmeans= [np.sum([kmeans_cluster_data[i][0][j].max_objective(x_kmeans[i][j]) for j in range(n_c[i])]) for i in range(len(n_c))]\n",
    "c_kmeans = [np.sum([kmeans_cluster_data[i][0][j].objective(x_kmeans[i][j]) for j in range(n_c[i])]) for i in range(len(n_c))]\n"
   ]
  },
  {
   "cell_type": "code",
   "execution_count": 60,
   "metadata": {},
   "outputs": [
    {
     "name": "stdout",
     "output_type": "stream",
     "text": [
      "[ 35.49242532  50.99443036  78.34358971  96.77947178 115.69730974\n",
      " 162.31898363]\n",
      "[ 35.57542196  50.6645153   78.17173276  96.84515966 115.24624926\n",
      " 162.15072727]\n"
     ]
    }
   ],
   "source": [
    "print(f_kmeans)\n",
    "print(f_spectral)"
   ]
  },
  {
   "cell_type": "code",
   "execution_count": 6,
   "metadata": {},
   "outputs": [
    {
     "name": "stdout",
     "output_type": "stream",
     "text": [
      "GRAPH IS EMPTY DURING ASSIGNMENT UPDATE!!\n",
      "GRAPH IS EMPTY DURING ASSIGNMENT UPDATE!!\n",
      "Ended at maximum iterations\n",
      "GRAPH IS EMPTY DURING ASSIGNMENT UPDATE!!\n",
      "Ended at maximum iterations\n",
      "Ended at maximum iterations\n",
      "Ended at maximum iterations\n",
      "Ended at maximum iterations\n",
      "Ended at maximum iterations\n",
      "Ended at maximum iterations\n",
      "Ended at maximum iterations\n",
      "GRAPH IS EMPTY DURING ASSIGNMENT UPDATE!!\n",
      "GRAPH IS EMPTY DURING ASSIGNMENT UPDATE!!\n",
      "Ended at maximum iterations\n",
      "Ended at maximum iterations\n",
      "Ended at maximum iterations\n",
      "Ended at maximum iterations\n",
      "Ended at maximum iterations\n",
      "Ended at maximum iterations\n",
      "Ended at maximum iterations\n",
      "Ended at maximum iterations\n",
      "Ended at maximum iterations\n",
      "Ended at maximum iterations\n",
      "Ended at maximum iterations\n",
      "Ended at maximum iterations\n",
      "Ended at maximum iterations\n",
      "Ended at maximum iterations\n",
      "Ended at maximum iterations\n",
      "Ended at maximum iterations\n",
      "Ended at maximum iterations\n",
      "Ended at maximum iterations\n",
      "Ended at maximum iterations\n",
      "Ended at maximum iterations\n",
      "Ended at maximum iterations\n",
      "Ended at maximum iterations\n",
      "Ended at maximum iterations\n",
      "Ended at maximum iterations\n",
      "Ended at maximum iterations\n",
      "Ended at maximum iterations\n",
      "Ended at maximum iterations\n",
      "Ended at maximum iterations\n",
      "Ended at maximum iterations\n",
      "Ended at maximum iterations\n",
      "Ended at maximum iterations\n",
      "Ended at maximum iterations\n",
      "Ended at maximum iterations\n",
      "Ended at maximum iterations\n",
      "Ended at maximum iterations\n",
      "Ended at maximum iterations\n",
      "Ended at maximum iterations\n",
      "Ended at maximum iterations\n",
      "Ended at maximum iterations\n",
      "Ended at maximum iterations\n",
      "Ended at maximum iterations\n",
      "Ended at maximum iterations\n"
     ]
    }
   ],
   "source": [
    "\n",
    "f_random_avg = []\n",
    "f_random_std= []\n",
    "c_random_avg= []\n",
    "c_random_std = []\n",
    "t_random_avg = []\n",
    "t_random_std= []\n",
    "rng = np.random.RandomState(seed=0)\n",
    "for i in range(len(n_c)):\n",
    "    f = []\n",
    "    c = []\n",
    "    t = []\n",
    "    for j in range(100):\n",
    "        t0 = perf_counter()\n",
    "        sub_probs, weapons, targets = spectral_clustering.random_reduction(prob[i],n_c[i],rng=rng)\n",
    "        x = [ahuja.optimize(p,maxiters=1000,ftol_abs=1e-12) for p in sub_probs]\n",
    "        t.append(perf_counter()-t0)\n",
    "        f.append(np.sum([sub_probs[i].max_objective(x[i]) for i in range(n_c[i])]))\n",
    "        c.append(np.sum([sub_probs[i].objective(x[i]) for i in range(n_c[i])]))\n",
    "    f_random_avg.append(np.average(f))\n",
    "    f_random_std.append(np.std(f))\n",
    "    c_random_avg.append(np.average(c))\n",
    "    c_random_std.append(np.std(c))\n",
    "    t_random_avg.append(np.average(t))\n",
    "    t_random_std.append(np.std(t))"
   ]
  },
  {
   "cell_type": "code",
   "execution_count": 7,
   "metadata": {},
   "outputs": [],
   "source": [
    "# convert data to numpy arrays\n",
    "f_random_avg = np.array(f_random_avg) \n",
    "f_random_std= np.array(f_random_std)\n",
    "c_random_avg= np.array(c_random_avg)\n",
    "c_random_std = np.array(c_random_std)\n",
    "t_random_avg = np.array(t_random_avg)\n",
    "t_random_std = np.array(t_random_std)\n",
    "f_greedy = np.array(f_greedy)\n",
    "c_greedy = np.array(c_greedy)\n",
    "f_ahuja = np.array(f_ahuja)\n",
    "c_ahuja = np.array(c_ahuja)\n",
    "# f_spectral = np.array(f_spectral)\n",
    "# c_spectral = np.array(c_spectral)\n",
    "f_kmeans = np.array(f_kmeans)\n",
    "c_kmeans = np.array(c_kmeans)\n"
   ]
  },
  {
   "cell_type": "code",
   "execution_count": 91,
   "metadata": {},
   "outputs": [
    {
     "data": {
      "image/png": "[encoded data removed]",
      "text/plain": [
       "<Figure size 576x216 with 3 Axes>"
      ]
     },
     "metadata": {
      "needs_background": "light"
     },
     "output_type": "display_data"
    }
   ],
   "source": [
    "# fig,axs = plt.subplots(2,2,sharex=True)\n",
    "import matplotlib\n",
    "matplotlib.rcParams[\"font.family\"] = [\"serif\"]\n",
    "matplotlib.rcParams[\"font.serif\"] = [\"Times New Roman\"]\n",
    "fig, axs = plt.subplots(1,3,figsize=(8,3))\n",
    "# gs = fig.add_gridspec(1,3,wspace=.25,hspace=.4)\n",
    "# axs = [fig.add_subplot(gs[0,0]),fig.add_subplot(gs[0,1]),fig.add_subplot(gs[1,0])]\n",
    "\n",
    "axs[0].plot(n_w, c_greedy, marker=\"s\", linewidth=1.5, markersize=6, color=\"C0\")\n",
    "axs[0].plot(n_w, c_kmeans, marker=\"o\", linewidth=1.5, markersize=6, color=\"C2\")\n",
    "# axs[0].plot(n_w, c_spectral, marker=\"o\", linewidth=2, markersize=8, color=\"C2\")\n",
    "axs[0].plot(n_w, c_ahuja, marker=\"*\", linewidth=2, markersize=6, color=\"C1\")\n",
    "axs[0].plot(n_w, c_random_avg, marker=\"^\", color=\"C3\", markersize=6, linewidth=1.5)\n",
    "axs[0].legend([\"Greedy\",\"Partitioning\", \"Benchmark\", \"Random Partitions\"], \n",
    "                bbox_to_anchor=(0,1),loc=\"upper left\",fontsize=\"small\")\n",
    "axs[0].set_title(\"A) Minimization Objective\",fontsize=\"medium\")\n",
    "axs[0].set_ylabel(\"Remaining Task Value\", fontsize=\"medium\")\n",
    "\n",
    "axs[1].plot([],[],marker=\"s\")\n",
    "axs[1].plot(n_w, 100*(c_greedy-c_ahuja)/(c_greedy-c_ahuja),color=\"C1\", linewidth=1.5)\n",
    "axs[1].plot(n_w, 100*(c_greedy-c_kmeans)/(c_greedy-c_ahuja),color=\"C2\", linewidth=1.5, marker=\"o\", markersize=6)\n",
    "# axs[1].plot(n_w, 100*(c_greedy-c_spectral)/(c_greedy-c_ahuja),color=\"C2\", linewidth=2, marker=\"o\", markersize=8)\n",
    "axs[1].errorbar(n_w, 100*(c_greedy-c_random_avg)/(c_greedy-c_ahuja), 100*(c_random_std)/(c_greedy-c_ahuja), fmt=\"^\", color=\"C3\", linewidth=2, markersize=6)\n",
    "axs[1].set_xlabel(\"# of agents\", fontsize=\"medium\")\n",
    "axs[1].set_ylabel(\"Percent\", fontsize=\"medium\", labelpad=-1)\n",
    "# axs[1].yaxis.set_label_position(\"right\")\n",
    "axs[1].set_title(\"B) Relative Solution Quality\",fontsize=\"medium\")\n",
    "axs[1].grid(visible=True,axis=\"y\")\n",
    "\n",
    "axs[2].plot(n_w, t_kmeans, color=\"C2\", linewidth=1.5, marker=\"o\", markersize=8,zorder=1)\n",
    "# axs[2].plot(n_w, t_spectral, color=\"C2\", linewidth=2, marker=\"o\", markersize=10,zorder=1)\n",
    "axs[2].scatter(n_w, t_random_avg, marker=\"^\", s=6**2, color=\"C3\",)\n",
    "axs[2].scatter(n_w, t_ahuja, marker=\"*\", s=6**2, color=\"C1\")\n",
    "axs[2].plot(n_w,t_ahuja,marker=\"*\",markersize=6,color=\"C1\",linewidth=1.5)\n",
    "# axs[2].set_xlabel(\"# of weapons\")\n",
    "axs[2].set_ylabel(\"Seconds\", fontsize=\"medium\")\n",
    "axs[2].set_title(\"C) Time to Compute Solution\", fontsize=\"medium\")\n",
    "axs[2].grid(visible=True, axis=\"y\")\n",
    "plt.tight_layout()\n",
    "plt.savefig(\"figures/hero_fig.png\",dpi=1000)"
   ]
  },
  {
   "cell_type": "code",
   "execution_count": 74,
   "metadata": {},
   "outputs": [
    {
     "data": {
      "text/plain": [
       "Text(0, 0.5, 'Remaining Task Value')"
      ]
     },
     "execution_count": 74,
     "metadata": {},
     "output_type": "execute_result"
    },
    {
     "data": {
      "image/png": "[encoded data removed]",
      "text/plain": [
       "<Figure size 288x288 with 1 Axes>"
      ]
     },
     "metadata": {
      "needs_background": "light"
     },
     "output_type": "display_data"
    }
   ],
   "source": [
    "# This figure is too busy, we are going to break it up into two figures\n",
    "\n",
    "fig, axs = plt.subplots(1,1,figsize=(4,4))\n",
    "axs.plot(n_w, c_greedy, marker=\"s\", linewidth=1.5, markersize=6, color=\"C0\")\n",
    "axs.plot(n_w, c_kmeans, marker=\"o\", linewidth=1.5, markersize=6, color=\"C2\")\n",
    "axs.plot(n_w, c_ahuja, marker=\"*\", linewidth=2, markersize=6, color=\"C1\")\n",
    "axs.plot(n_w, c_random_avg, marker=\"^\", color=\"C3\", markersize=6, linewidth=1.5)\n",
    "axs.legend([\"Greedy\",\"Partitioning\", \"Benchmark\", \"Random Partitions\"], \n",
    "                bbox_to_anchor=(0,.6),loc=\"lower left\",fontsize=\"medium\")\n",
    "axs.set_title(\"Minimization Objective\",fontsize=\"medium\")\n",
    "axs.set_ylabel(\"Remaining Task Value\", fontsize=\"medium\")"
   ]
  },
  {
   "cell_type": "code",
   "execution_count": 96,
   "metadata": {},
   "outputs": [
    {
     "data": {
      "text/plain": [
       "[0.22959550000000029,\n",
       " 0.4700962000000004,\n",
       " 0.6999602000000067,\n",
       " 0.9926841999999851,\n",
       " 1.603147300000046,\n",
       " 3.544544299999984]"
      ]
     },
     "execution_count": 96,
     "metadata": {},
     "output_type": "execute_result"
    }
   ],
   "source": [
    "100*(c_greedy-c_kmeans)/(c_greedy-c_ahuja)\n",
    "np.array(t_ahuja)/np.array(t_kmeans)\n",
    "t_kmeans"
   ]
  }
 ],
 "metadata": {
  "kernelspec": {
   "display_name": "Python 3.9.12 64-bit",
   "language": "python",
   "name": "python3"
  },
  "language_info": {
   "codemirror_mode": {
    "name": "ipython",
    "version": 3
   },
   "file_extension": ".py",
   "mimetype": "text/x-python",
   "name": "python",
   "nbconvert_exporter": "python",
   "pygments_lexer": "ipython3",
   "version": "3.9.12"
  },
  "orig_nbformat": 4,
  "vscode": {
   "interpreter": {
    "hash": "81794d4967e6c3204c66dcd87b604927b115b27c00565d3d43f05ba2f3a2cb0d"
   }
  }
 },
 "nbformat": 4,
 "nbformat_minor": 2
}
