{
 "cells": [
  {
   "cell_type": "code",
   "execution_count": 47,
   "metadata": {},
   "outputs": [
    {
     "name": "stderr",
     "output_type": "stream",
     "text": [
      "c:\\Python39\\lib\\site-packages\\numpy\\lib\\function_base.py:959: VisibleDeprecationWarning: Creating an ndarray from ragged nested sequences (which is a list-or-tuple of lists-or-tuples-or ndarrays with different lengths or shapes) is deprecated. If you meant to do this, you must specify 'dtype=object' when creating the ndarray.\n",
      "  return array(a, order=order, subok=subok, copy=True)\n"
     ]
    },
    {
     "name": "stdout",
     "output_type": "stream",
     "text": [
      "1087.7\n"
     ]
    }
   ],
   "source": [
    "from simple_wta import WTAProblem, random_wta_factory\n",
    "import ahuja\n",
    "import spectral_clustering\n",
    "import numpy as np\n",
    "\n",
    "big_prob = random_wta_factory(300,225)\n",
    "probs,weapons,targets = spectral_clustering.reduce_problem(big_prob,15)\n",
    "assignments = [ahuja.optimize(p) for p in probs]\n",
    "values = [probs[i].max_objective(assignments[i]) for i in range(len(probs))]\n",
    "print(np.sum(values))"
   ]
  },
  {
   "cell_type": "code",
   "execution_count": 48,
   "metadata": {},
   "outputs": [
    {
     "name": "stdout",
     "output_type": "stream",
     "text": [
      "huzzah\n",
      "(7, 6, (0, 3))\n",
      "NEW: \n",
      "0.18000000000000682\n",
      "huzzah\n",
      "(7, 13, (0, 19))\n",
      "NEW: \n",
      "0.09000000000003183\n",
      "huzzah\n",
      "(7, 5, (1, 16))\n",
      "NEW: \n",
      "0.8100000000000023\n",
      "huzzah\n",
      "(5, 3, (0, 7))\n",
      "NEW: \n",
      "0.18999999999999773\n",
      "huzzah\n",
      "(13, 4, (0, 11))\n",
      "NEW: \n",
      "0.029999999999972715\n",
      "huzzah\n",
      "(12, 6, (0, 16))\n",
      "NEW: \n",
      "0.1700000000000017\n",
      "huzzah\n",
      "(12, 5, (0, 10))\n",
      "NEW: \n",
      "0.15000000000000568\n",
      "huzzah\n",
      "(8, 13, (0, 3))\n",
      "NEW: \n",
      "0.2599999999999909\n"
     ]
    }
   ],
   "source": [
    "import target_trading\n",
    "# now we are going to do some trading\n",
    "# weapon clusters will be randomly chosen to make offers to other clusters.\n",
    "\n",
    "# everything will be random\n",
    "\n",
    "for _ in range(100):\n",
    "    i,j = np.random.choice(len(probs),2,replace=False)\n",
    "    # need better probability densities than uniform\n",
    "    stuff = [np.average([big_prob.p[w,t]*big_prob.v[t] for w in weapons[i]]) for t in targets[j]]\n",
    "    pdf = np.array(stuff)/np.sum(stuff)\n",
    "    k = np.random.choice(len(targets[j]),p=pdf)\n",
    "    # get pk data\n",
    "    pk,v = big_prob.p[weapons[i],targets[j][k]], big_prob.v[targets[j][k]]\n",
    "    # make offer\n",
    "    offer = target_trading.make_offer(probs[i].copy(),assignments[i].copy(),pk.copy(),v)\n",
    "    if len(offer) == 0:\n",
    "        continue\n",
    "    t = [targets[i][o[0]] for o in offer]\n",
    "    pk = big_prob.p[weapons[j],:][:,t]\n",
    "    v = big_prob.v[t]\n",
    "    # print(offer)\n",
    "    response = target_trading.evaluate_offer(\n",
    "        probs[j].copy(),\n",
    "        assignments[j].copy(),\n",
    "        offer,\n",
    "        k,\n",
    "        pk.copy(),\n",
    "        v.copy()\n",
    "    )\n",
    "    if response is not None:\n",
    "        print(\"huzzah\")\n",
    "        print((i,j,(response,k)))\n",
    "        u0 = [probs[i].max_objective(assignments[i]),probs[j].max_objective(assignments[j])]\n",
    "        probs[i].p[:,response] = big_prob.p[weapons[i],targets[j][k]]\n",
    "        probs[i].v[response] = big_prob.v[targets[j][k]]\n",
    "        probs[j].p[:,k] = big_prob.p[weapons[j],targets[i][response]]\n",
    "        probs[j].v[k] = big_prob.v[targets[i][response]]\n",
    "        big_prob.p[weapons[i],targets[i][response]] = probs[i].p[:,response]\n",
    "        big_prob.v[targets[i][response]] = probs[i].v[response]\n",
    "        big_prob.p[weapons[j],targets[j][k]] = probs[j].p[:,k]\n",
    "        big_prob.v[targets[j][k]] = probs[j].v[k]\n",
    "        assignments[i] = ahuja.optimize_from_initial(probs[i],assignments[i])\n",
    "        assignments[j] = ahuja.optimize_from_initial(probs[j],assignments[j])\n",
    "        print(\"NEW: \")\n",
    "        u1 = [probs[i].max_objective(assignments[i]),probs[j].max_objective(assignments[j])]\n",
    "        print(u1[0]-u0[0]+u1[1]-u0[1])\n",
    "\n",
    "\n"
   ]
  },
  {
   "cell_type": "code",
   "execution_count": 49,
   "metadata": {},
   "outputs": [
    {
     "data": {
      "text/plain": [
       "1089.5800000000002"
      ]
     },
     "execution_count": 49,
     "metadata": {},
     "output_type": "execute_result"
    }
   ],
   "source": [
    "# assignments = [ahuja.optimize(p) for p in probs]\n",
    "np.sum([probs[i].max_objective(assignments[i]) for i in range(len(probs))])\n",
    "# ahuja.optimize(probs[0])"
   ]
  }
 ],
 "metadata": {
  "kernelspec": {
   "display_name": "Python 3.9.12 64-bit",
   "language": "python",
   "name": "python3"
  },
  "language_info": {
   "codemirror_mode": {
    "name": "ipython",
    "version": 3
   },
   "file_extension": ".py",
   "mimetype": "text/x-python",
   "name": "python",
   "nbconvert_exporter": "python",
   "pygments_lexer": "ipython3",
   "version": "3.9.12"
  },
  "orig_nbformat": 4,
  "vscode": {
   "interpreter": {
    "hash": "81794d4967e6c3204c66dcd87b604927b115b27c00565d3d43f05ba2f3a2cb0d"
   }
  }
 },
 "nbformat": 4,
 "nbformat_minor": 2
}
